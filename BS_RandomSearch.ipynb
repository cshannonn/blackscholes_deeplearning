{
 "cells": [
  {
   "cell_type": "markdown",
   "metadata": {},
   "source": [
    "### Import Libraries"
   ]
  },
  {
   "cell_type": "code",
   "execution_count": 1,
   "metadata": {},
   "outputs": [
    {
     "name": "stderr",
     "output_type": "stream",
     "text": [
      "Using TensorFlow backend.\n"
     ]
    }
   ],
   "source": [
    "import pandas as pd\n",
    "import numpy as np\n",
    "import scipy.stats as ss\n",
    "import matplotlib.pyplot as plt\n",
    "%matplotlib inline\n",
    "\n",
    "import keras\n",
    "import tensorflow as tf\n",
    "from keras.models import Sequential\n",
    "from keras.layers import Activation, Dense, Dropout, Flatten\n",
    "from keras import backend\n",
    "from keras.callbacks import EarlyStopping\n",
    "from keras.wrappers.scikit_learn import KerasClassifier\n",
    "from sklearn.model_selection import GridSearchCV\n",
    "from sklearn.datasets import make_classification\n",
    "from sklearn.model_selection import train_test_split"
   ]
  },
  {
   "cell_type": "code",
   "execution_count": 2,
   "metadata": {},
   "outputs": [
    {
     "name": "stdout",
     "output_type": "stream",
     "text": [
      "2.2.4\n",
      "1.10.0\n"
     ]
    }
   ],
   "source": [
    "# Versioning\n",
    "print(keras.__version__)\n",
    "print(tf.__version__)"
   ]
  },
  {
   "cell_type": "markdown",
   "metadata": {},
   "source": [
    "### Read in Normalized Option Pricing Data Set"
   ]
  },
  {
   "cell_type": "code",
   "execution_count": 3,
   "metadata": {},
   "outputs": [],
   "source": [
    "option_df = pd.read_pickle(\"opt_data_z.pkl\")\n",
    "## Move data into numpy array\n",
    "prices = option_df.values"
   ]
  },
  {
   "cell_type": "code",
   "execution_count": 4,
   "metadata": {},
   "outputs": [],
   "source": [
    "# X values\n",
    "X = prices[:,:4]\n",
    "\n",
    "# Y values \n",
    "y = prices[:,4:5]\n",
    "\n",
    "# Use Sklearn library to randomly split data into training/testing set\n",
    "X_train, X_test, y_train, y_test = train_test_split(X, y, test_size=0.2, random_state=42)"
   ]
  },
  {
   "cell_type": "markdown",
   "metadata": {},
   "source": [
    "#### Build Keras/Scikit Learn Function"
   ]
  },
  {
   "cell_type": "code",
   "execution_count": 5,
   "metadata": {},
   "outputs": [],
   "source": [
    "def create_model(optimizer = 'rmsprop'):\n",
    "\n",
    "    nodes = 200\n",
    "\n",
    "    # Create Model\n",
    "    model = Sequential()\n",
    "\n",
    "    # Layer 1\n",
    "    model.add(Dense(nodes, input_shape=(4,))) \n",
    "    model.add(Activation('relu'))\n",
    "    model.add(Dropout(0.25))\n",
    "\n",
    "    # Layer 2\n",
    "    model.add(Dense(nodes)) \n",
    "    model.add(Activation ('relu'))\n",
    "    model.add(Dropout(0.25))\n",
    "\n",
    "    # Layer 3\n",
    "    model.add(Dense(nodes))\n",
    "    model.add(Activation ('relu'))\n",
    "    model.add(Dropout(0.25))\n",
    "\n",
    "    # Layer 4 - Output Layer\n",
    "    model.add(Dense(1))\n",
    "    model.add(Activation('elu'))\n",
    "    \n",
    "    model.compile(loss='mse', optimizer = optimizer, metrics=['accuracy'])\n",
    "    \n",
    "    return model"
   ]
  },
  {
   "cell_type": "markdown",
   "metadata": {},
   "source": [
    "#### Instantiate Keras Classifier"
   ]
  },
  {
   "cell_type": "code",
   "execution_count": 6,
   "metadata": {},
   "outputs": [],
   "source": [
    "neural_network = KerasClassifier(build_fn = create_model, verbose = 0)"
   ]
  },
  {
   "cell_type": "markdown",
   "metadata": {},
   "source": [
    "#### Define Search Parameters "
   ]
  },
  {
   "cell_type": "code",
   "execution_count": 10,
   "metadata": {},
   "outputs": [],
   "source": [
    "## Small list of possible paramaters - goal is to explore search framework rather than all possible architectures\n",
    "\n",
    "epochs = [2]\n",
    "#batches = [5]\n",
    "optimizers = ['rmsprop', 'adam']\n",
    "\n",
    "hyperparameters = dict(optimizer=optimizers, epochs=epochs)"
   ]
  },
  {
   "cell_type": "markdown",
   "metadata": {},
   "source": [
    "#### Set stopping criteria "
   ]
  },
  {
   "cell_type": "code",
   "execution_count": 11,
   "metadata": {},
   "outputs": [],
   "source": [
    "callbacks_list = [EarlyStopping(monitor = 'loss', patience = 1)]"
   ]
  },
  {
   "cell_type": "code",
   "execution_count": 12,
   "metadata": {},
   "outputs": [
    {
     "name": "stdout",
     "output_type": "stream",
     "text": [
      "Epoch 1/2\n",
      " - 88s - loss: 239275280.2732 - acc: 3.0779e-05\n",
      "Epoch 2/2\n",
      " - 90s - loss: 86708103.7942 - acc: 4.0012e-05\n",
      "Epoch 1/2\n",
      " - 90s - loss: 229946885.5718 - acc: 4.3090e-05\n",
      "Epoch 2/2\n",
      " - 91s - loss: 83134501.2185 - acc: 4.9246e-05\n",
      "Epoch 1/2\n",
      " - 105s - loss: 265803697.9286 - acc: 2.7701e-05\n",
      "Epoch 2/2\n",
      " - 110s - loss: 175359988.1144 - acc: 2.4623e-05\n",
      "Epoch 1/2\n",
      " - 110s - loss: 221100237.4126 - acc: 4.3090e-05\n",
      "Epoch 2/2\n",
      " - 107s - loss: 91608149.1495 - acc: 6.1557e-05\n",
      "Epoch 1/2\n",
      " - 191s - loss: 326712278.6832 - acc: 3.3857e-05\n",
      "Epoch 2/2\n",
      " - 182s - loss: 193910085.5300 - acc: 4.0012e-05\n"
     ]
    }
   ],
   "source": [
    "# Create grid search\n",
    "grid = GridSearchCV(estimator = neural_network, param_grid = hyperparameters, cv = 2)\n",
    "\n",
    "# Fit grid search\n",
    "grid_result = grid.fit(X_train, y_train, verbose = 2, callbacks = callbacks_list)"
   ]
  },
  {
   "cell_type": "code",
   "execution_count": 13,
   "metadata": {},
   "outputs": [
    {
     "data": {
      "text/plain": [
       "{'epochs': 2, 'optimizer': 'rmsprop'}"
      ]
     },
     "execution_count": 13,
     "metadata": {},
     "output_type": "execute_result"
    }
   ],
   "source": [
    "grid_result.best_params_"
   ]
  },
  {
   "cell_type": "code",
   "execution_count": null,
   "metadata": {},
   "outputs": [],
   "source": []
  }
 ],
 "metadata": {
  "kernelspec": {
   "display_name": "Python 3",
   "language": "python",
   "name": "python3"
  },
  "language_info": {
   "codemirror_mode": {
    "name": "ipython",
    "version": 3
   },
   "file_extension": ".py",
   "mimetype": "text/x-python",
   "name": "python",
   "nbconvert_exporter": "python",
   "pygments_lexer": "ipython3",
   "version": "3.6.7"
  }
 },
 "nbformat": 4,
 "nbformat_minor": 2
}
