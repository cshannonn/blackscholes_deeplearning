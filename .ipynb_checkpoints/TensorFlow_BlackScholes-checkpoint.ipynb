{
 "cells": [
  {
   "cell_type": "code",
   "execution_count": 5,
   "metadata": {},
   "outputs": [],
   "source": [
    "import pandas as pd\n",
    "import numpy as np\n",
    "import scipy.stats as ss\n",
    "import matplotlib.pyplot as plt\n",
    "%matplotlib inline"
   ]
  },
  {
   "cell_type": "code",
   "execution_count": 38,
   "metadata": {},
   "outputs": [],
   "source": [
    "## Black Scholes Option Pricing Formula\n",
    "\n",
    "def BS_Call(S,K,r,T,v,d=0):\n",
    "    d1 = (np.log(float(S)/K)+((r-d)+v*v/2.)*T)/(v*np.sqrt(T))\n",
    "    d2 = d1-v*np.sqrt(T)\n",
    "    return S*np.exp(-d*T)*ss.norm.cdf(d1)-K*np.exp(-r*T)*ss.norm.cdf(d2)\n",
    "\n"
   ]
  },
  {
   "cell_type": "code",
   "execution_count": 46,
   "metadata": {},
   "outputs": [
    {
     "data": {
      "text/plain": [
       "1176120"
      ]
     },
     "execution_count": 46,
     "metadata": {},
     "output_type": "execute_result"
    }
   ],
   "source": [
    "## Build pandas dataframe of prices\n",
    "S = np.arange(1, 100, 1)\n",
    "K = np.arange(1, 100, 1)\n",
    "r = 0.05\n",
    "T = np.arange(0.05, 1, 0.1)\n",
    "V = np.arange(0.05, 0.5, 0.04)\n",
    "\n",
    "# Number of option prices = life begins at a million examples\n",
    "no_of_options = len(S)*len(K)*len(T)*len(V)\n",
    "no_of_options"
   ]
  },
  {
   "cell_type": "code",
   "execution_count": 54,
   "metadata": {},
   "outputs": [],
   "source": [
    "prices = np.empty([no_of_options,6], dtype=float)"
   ]
  },
  {
   "cell_type": "code",
   "execution_count": 65,
   "metadata": {},
   "outputs": [
    {
     "name": "stdout",
     "output_type": "stream",
     "text": [
      "Wall time: 2min 59s\n"
     ]
    }
   ],
   "source": [
    "%%time\n",
    "x = 0\n",
    "for s in S:\n",
    "    for k in K:\n",
    "        for t in T:\n",
    "            for v in V:\n",
    "                prices[x,:] = [s,k,t,0.05,v,BS_Call(s,k,r,t,v)]\n",
    "                x+=1"
   ]
  },
  {
   "cell_type": "code",
   "execution_count": 63,
   "metadata": {},
   "outputs": [],
   "source": [
    "option_df = pd.DataFrame(index = range(no_of_options), columns = \n",
    "                         ['Stock', \n",
    "                          'Strike',\n",
    "                          'Time',\n",
    "                          'Risk_free',\n",
    "                          'Volatility',\n",
    "                          'Call Price'], data = prices )"
   ]
  },
  {
   "cell_type": "code",
   "execution_count": 67,
   "metadata": {},
   "outputs": [
    {
     "data": {
      "text/html": [
       "<div>\n",
       "<style scoped>\n",
       "    .dataframe tbody tr th:only-of-type {\n",
       "        vertical-align: middle;\n",
       "    }\n",
       "\n",
       "    .dataframe tbody tr th {\n",
       "        vertical-align: top;\n",
       "    }\n",
       "\n",
       "    .dataframe thead th {\n",
       "        text-align: right;\n",
       "    }\n",
       "</style>\n",
       "<table border=\"1\" class=\"dataframe\">\n",
       "  <thead>\n",
       "    <tr style=\"text-align: right;\">\n",
       "      <th></th>\n",
       "      <th>Stock</th>\n",
       "      <th>Strike</th>\n",
       "      <th>Time</th>\n",
       "      <th>Risk_free</th>\n",
       "      <th>Volatility</th>\n",
       "      <th>Call Price</th>\n",
       "    </tr>\n",
       "  </thead>\n",
       "  <tbody>\n",
       "    <tr>\n",
       "      <th>1176110</th>\n",
       "      <td>99.0</td>\n",
       "      <td>99.0</td>\n",
       "      <td>0.95</td>\n",
       "      <td>0.05</td>\n",
       "      <td>0.13</td>\n",
       "      <td>7.520076</td>\n",
       "    </tr>\n",
       "    <tr>\n",
       "      <th>1176111</th>\n",
       "      <td>99.0</td>\n",
       "      <td>99.0</td>\n",
       "      <td>0.95</td>\n",
       "      <td>0.05</td>\n",
       "      <td>0.17</td>\n",
       "      <td>8.941301</td>\n",
       "    </tr>\n",
       "    <tr>\n",
       "      <th>1176112</th>\n",
       "      <td>99.0</td>\n",
       "      <td>99.0</td>\n",
       "      <td>0.95</td>\n",
       "      <td>0.05</td>\n",
       "      <td>0.21</td>\n",
       "      <td>10.389541</td>\n",
       "    </tr>\n",
       "    <tr>\n",
       "      <th>1176113</th>\n",
       "      <td>99.0</td>\n",
       "      <td>99.0</td>\n",
       "      <td>0.95</td>\n",
       "      <td>0.05</td>\n",
       "      <td>0.25</td>\n",
       "      <td>11.850355</td>\n",
       "    </tr>\n",
       "    <tr>\n",
       "      <th>1176114</th>\n",
       "      <td>99.0</td>\n",
       "      <td>99.0</td>\n",
       "      <td>0.95</td>\n",
       "      <td>0.05</td>\n",
       "      <td>0.29</td>\n",
       "      <td>13.316823</td>\n",
       "    </tr>\n",
       "    <tr>\n",
       "      <th>1176115</th>\n",
       "      <td>99.0</td>\n",
       "      <td>99.0</td>\n",
       "      <td>0.95</td>\n",
       "      <td>0.05</td>\n",
       "      <td>0.33</td>\n",
       "      <td>14.785075</td>\n",
       "    </tr>\n",
       "    <tr>\n",
       "      <th>1176116</th>\n",
       "      <td>99.0</td>\n",
       "      <td>99.0</td>\n",
       "      <td>0.95</td>\n",
       "      <td>0.05</td>\n",
       "      <td>0.37</td>\n",
       "      <td>16.252664</td>\n",
       "    </tr>\n",
       "    <tr>\n",
       "      <th>1176117</th>\n",
       "      <td>99.0</td>\n",
       "      <td>99.0</td>\n",
       "      <td>0.95</td>\n",
       "      <td>0.05</td>\n",
       "      <td>0.41</td>\n",
       "      <td>17.717881</td>\n",
       "    </tr>\n",
       "    <tr>\n",
       "      <th>1176118</th>\n",
       "      <td>99.0</td>\n",
       "      <td>99.0</td>\n",
       "      <td>0.95</td>\n",
       "      <td>0.05</td>\n",
       "      <td>0.45</td>\n",
       "      <td>19.179435</td>\n",
       "    </tr>\n",
       "    <tr>\n",
       "      <th>1176119</th>\n",
       "      <td>99.0</td>\n",
       "      <td>99.0</td>\n",
       "      <td>0.95</td>\n",
       "      <td>0.05</td>\n",
       "      <td>0.49</td>\n",
       "      <td>20.636284</td>\n",
       "    </tr>\n",
       "  </tbody>\n",
       "</table>\n",
       "</div>"
      ],
      "text/plain": [
       "         Stock  Strike  Time  Risk_free  Volatility  Call Price\n",
       "1176110   99.0    99.0  0.95       0.05        0.13    7.520076\n",
       "1176111   99.0    99.0  0.95       0.05        0.17    8.941301\n",
       "1176112   99.0    99.0  0.95       0.05        0.21   10.389541\n",
       "1176113   99.0    99.0  0.95       0.05        0.25   11.850355\n",
       "1176114   99.0    99.0  0.95       0.05        0.29   13.316823\n",
       "1176115   99.0    99.0  0.95       0.05        0.33   14.785075\n",
       "1176116   99.0    99.0  0.95       0.05        0.37   16.252664\n",
       "1176117   99.0    99.0  0.95       0.05        0.41   17.717881\n",
       "1176118   99.0    99.0  0.95       0.05        0.45   19.179435\n",
       "1176119   99.0    99.0  0.95       0.05        0.49   20.636284"
      ]
     },
     "execution_count": 67,
     "metadata": {},
     "output_type": "execute_result"
    }
   ],
   "source": [
    "option_df.tail(10)"
   ]
  },
  {
   "cell_type": "code",
   "execution_count": null,
   "metadata": {},
   "outputs": [],
   "source": []
  }
 ],
 "metadata": {
  "kernelspec": {
   "display_name": "Python 3",
   "language": "python",
   "name": "python3"
  },
  "language_info": {
   "codemirror_mode": {
    "name": "ipython",
    "version": 3
   },
   "file_extension": ".py",
   "mimetype": "text/x-python",
   "name": "python",
   "nbconvert_exporter": "python",
   "pygments_lexer": "ipython3",
   "version": "3.6.6"
  }
 },
 "nbformat": 4,
 "nbformat_minor": 2
}
