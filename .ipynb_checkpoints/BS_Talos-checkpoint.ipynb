{
 "cells": [
  {
   "cell_type": "markdown",
   "metadata": {},
   "source": [
    "### Import Libraries"
   ]
  },
  {
   "cell_type": "code",
   "execution_count": 15,
   "metadata": {},
   "outputs": [],
   "source": [
    "import pandas as pd\n",
    "import numpy as np\n",
    "import scipy.stats as ss\n",
    "import matplotlib.pyplot as plt\n",
    "%matplotlib inline\n",
    "\n",
    "import keras\n",
    "import tensorflow as tf\n",
    "from keras.models import Sequential\n",
    "from keras.layers import Activation, Dense, Dropout, Flatten\n",
    "from keras import backend\n",
    "from keras.callbacks import EarlyStopping\n",
    "from keras.wrappers.scikit_learn import KerasClassifier\n",
    "from sklearn.model_selection import GridSearchCV\n",
    "from sklearn.datasets import make_classification\n",
    "from sklearn.model_selection import train_test_split"
   ]
  },
  {
   "cell_type": "code",
   "execution_count": 16,
   "metadata": {},
   "outputs": [
    {
     "name": "stdout",
     "output_type": "stream",
     "text": [
      "2.2.4\n",
      "1.10.0\n"
     ]
    }
   ],
   "source": [
    "# Versioning\n",
    "print(keras.__version__)\n",
    "print(tf.__version__)"
   ]
  },
  {
   "cell_type": "markdown",
   "metadata": {},
   "source": [
    "### Read in Normalized Option Pricing Data Set"
   ]
  },
  {
   "cell_type": "code",
   "execution_count": 29,
   "metadata": {},
   "outputs": [],
   "source": [
    "option_df = pd.read_pickle(\"opt_data_z.pkl\")\n",
    "## Move data into numpy array\n",
    "prices = option_df.values"
   ]
  },
  {
   "cell_type": "code",
   "execution_count": 30,
   "metadata": {},
   "outputs": [],
   "source": [
    "# X values\n",
    "X = prices[:,:4]\n",
    "\n",
    "# Y values \n",
    "y = prices[:,4:5]\n",
    "\n",
    "# Use Sklearn library to randomly split data into training/testing set\n",
    "X_train, X_test, y_train, y_test = train_test_split(X, y, test_size=0.2, random_state=42)"
   ]
  },
  {
   "cell_type": "markdown",
   "metadata": {},
   "source": [
    "#### Build Keras/Scikit Learn Function"
   ]
  },
  {
   "cell_type": "code",
   "execution_count": 31,
   "metadata": {},
   "outputs": [],
   "source": [
    "def create_model(optimizer = 'rmsprop'):\n",
    "\n",
    "    nodes = 200\n",
    "\n",
    "    # Create Model\n",
    "    model = Sequential()\n",
    "\n",
    "    # Layer 1\n",
    "    model.add(Dense(nodes, input_shape=(4,))) \n",
    "    model.add(Activation('relu'))\n",
    "    model.add(Dropout(0.25))\n",
    "\n",
    "    # Layer 2\n",
    "    model.add(Dense(nodes)) \n",
    "    model.add(Activation ('relu'))\n",
    "    model.add(Dropout(0.25))\n",
    "\n",
    "    # Layer 3\n",
    "    model.add(Dense(nodes))\n",
    "    model.add(Activation ('relu'))\n",
    "    model.add(Dropout(0.25))\n",
    "\n",
    "    # Layer 4 - Output Layer\n",
    "    model.add(Dense(1))\n",
    "    model.add(Activation('elu'))\n",
    "    \n",
    "    model.compile(loss='mse', optimizer = optimizer, metrics=['accuracy'])\n",
    "    \n",
    "    return model"
   ]
  },
  {
   "cell_type": "markdown",
   "metadata": {},
   "source": [
    "#### Instantiate Keras Classifier"
   ]
  },
  {
   "cell_type": "code",
   "execution_count": 34,
   "metadata": {},
   "outputs": [],
   "source": [
    "neural_network = KerasClassifier(build_fn = create_model, verbose = 0)"
   ]
  },
  {
   "cell_type": "markdown",
   "metadata": {},
   "source": [
    "#### Define Search Parameters "
   ]
  },
  {
   "cell_type": "code",
   "execution_count": 36,
   "metadata": {},
   "outputs": [],
   "source": [
    "epochs = [5, 10]\n",
    "batches = [5, 10]\n",
    "optimizers = ['rmsprop', 'adam']\n",
    "\n",
    "hyperparameters = dict(optimizer=optimizers, epochs=epochs)"
   ]
  },
  {
   "cell_type": "code",
   "execution_count": 39,
   "metadata": {},
   "outputs": [],
   "source": [
    "callbacks_list = [EarlyStopping(monitor = 'loss', patience = 1)]"
   ]
  },
  {
   "cell_type": "code",
   "execution_count": null,
   "metadata": {},
   "outputs": [
    {
     "name": "stdout",
     "output_type": "stream",
     "text": [
      "Epoch 1/5\n",
      " - 54s - loss: 278407250.5027 - acc: 3.8473e-05\n",
      "Epoch 2/5\n",
      " - 52s - loss: 111185377.3529 - acc: 3.8473e-05\n",
      "Epoch 3/5\n",
      " - 52s - loss: 95286021.6036 - acc: 3.4626e-05\n",
      "Epoch 4/5\n",
      " - 51s - loss: 84456209.2750 - acc: 6.9252e-05\n",
      "Epoch 5/5\n",
      " - 52s - loss: 71911055.9303 - acc: 5.7710e-05\n",
      "Epoch 1/5\n",
      " - 52s - loss: 314273175.6582 - acc: 2.6931e-05\n",
      "Epoch 2/5\n",
      " - 52s - loss: 114244877.4193 - acc: 5.3863e-05\n",
      "Epoch 3/5\n",
      " - 52s - loss: 95644518.3819 - acc: 4.8092e-05\n",
      "Epoch 4/5\n",
      " - 55s - loss: 86969550.6744 - acc: 1.9237e-05\n",
      "Epoch 5/5\n",
      " - 53s - loss: 78264517.7778 - acc: 4.8092e-05\n",
      "Epoch 1/5\n",
      " - 150s - loss: 350528780.6335 - acc: 2.1160e-05\n",
      "Epoch 2/5\n",
      " - 145s - loss: 151824017.4104 - acc: 2.5008e-05\n",
      "Epoch 3/5\n",
      " - 145s - loss: 97588715.2068 - acc: 4.2321e-05\n",
      "Epoch 4/5\n",
      " - 145s - loss: 88696925.0118 - acc: 4.4244e-05\n",
      "Epoch 5/5\n",
      " - 145s - loss: 81593974.0458 - acc: 5.1939e-05\n",
      "Epoch 1/5\n",
      " - 143s - loss: 350501651.1552 - acc: 2.8855e-05\n",
      "Epoch 2/5\n",
      " - 146s - loss: 173938061.9479 - acc: 3.6550e-05\n",
      "Epoch 3/5\n",
      " - 146s - loss: 102524695.7591 - acc: 4.4244e-05\n",
      "Epoch 4/5\n",
      " - 154s - loss: 91505147.0237 - acc: 5.1939e-05\n",
      "Epoch 5/5\n",
      " - 166s - loss: 84018952.1658 - acc: 4.0397e-05\n",
      "Epoch 1/5\n",
      " - 162s - loss: 346674495.5853 - acc: 1.7313e-05\n",
      "Epoch 2/5\n",
      " - 111s - loss: 259389003.9032 - acc: 1.3466e-05\n",
      "Epoch 3/5\n",
      " - 51s - loss: 195841072.1866 - acc: 2.8855e-05\n",
      "Epoch 4/5\n",
      " - 52s - loss: 103954149.6916 - acc: 4.0397e-05\n",
      "Epoch 5/5\n",
      " - 51s - loss: 89254323.3561 - acc: 2.8855e-05\n",
      "Epoch 1/5\n",
      " - 59s - loss: 342878436.1032 - acc: 2.3084e-05\n",
      "Epoch 2/5\n",
      " - 58s - loss: 259045651.6329 - acc: 2.3084e-05\n",
      "Epoch 3/5\n",
      " - 59s - loss: 257552453.2688 - acc: 2.6931e-05\n",
      "Epoch 4/5\n",
      " - 56s - loss: 256251493.4308 - acc: 3.2702e-05\n",
      "Epoch 5/5\n",
      " - 57s - loss: 253979471.6661 - acc: 2.5008e-05\n",
      "Epoch 1/5\n",
      " - 59s - loss: 342994562.4559 - acc: 1.3466e-05\n",
      "Epoch 2/5\n",
      " - 59s - loss: 246836772.3056 - acc: 1.9237e-05\n",
      "Epoch 3/5\n",
      " - 63s - loss: 180593682.8156 - acc: 5.3863e-05\n",
      "Epoch 4/5\n",
      " - 62s - loss: 133843970.1630 - acc: 4.0397e-05\n",
      "Epoch 5/5\n",
      " - 59s - loss: 109073806.4362 - acc: 3.2702e-05\n",
      "Epoch 1/5\n",
      " - 58s - loss: 344559250.2338 - acc: 1.9237e-05\n",
      "Epoch 2/5\n",
      " - 58s - loss: 261610424.2615 - acc: 2.6931e-05\n",
      "Epoch 3/5\n",
      " - 58s - loss: 260088386.5593 - acc: 3.0779e-05\n",
      "Epoch 4/5\n",
      " - 61s - loss: 258580433.4262 - acc: 9.6183e-06\n",
      "Epoch 5/5\n",
      " - 62s - loss: 228513099.6435 - acc: 2.8855e-05\n",
      "Epoch 1/5\n",
      " - 64s - loss: 344460780.0305 - acc: 2.1160e-05\n",
      "Epoch 2/5\n",
      " - 64s - loss: 261000287.1921 - acc: 1.5389e-05\n",
      "Epoch 3/5\n",
      " - 65s - loss: 259317190.0041 - acc: 1.5389e-05\n",
      "Epoch 4/5\n",
      " - 66s - loss: 257228165.1753 - acc: 1.9237e-05\n",
      "Epoch 5/5\n",
      " - 66s - loss: 204988745.9940 - acc: 3.2702e-05\n",
      "Epoch 1/5\n",
      " - 62s - loss: 342155795.3857 - acc: 2.1160e-05\n",
      "Epoch 2/5\n",
      " - 62s - loss: 260097142.7388 - acc: 2.5008e-05\n",
      "Epoch 3/5\n",
      " - 61s - loss: 258002823.8099 - acc: 2.5008e-05\n",
      "Epoch 4/5\n",
      " - 61s - loss: 256286331.2428 - acc: 1.9237e-05\n",
      "Epoch 5/5\n",
      " - 59s - loss: 160510425.7980 - acc: 3.2702e-05\n",
      "Epoch 1/10\n",
      " - 55s - loss: 293533855.7383 - acc: 1.3466e-05\n",
      "Epoch 2/10\n",
      " - 55s - loss: 129108580.2898 - acc: 2.6931e-05\n",
      "Epoch 3/10\n",
      " - 54s - loss: 110914338.6419 - acc: 5.0015e-05\n",
      "Epoch 4/10\n",
      " - 55s - loss: 80135113.6900 - acc: 3.2702e-05\n",
      "Epoch 5/10\n",
      " - 55s - loss: 60113919.4675 - acc: 4.2321e-05\n",
      "Epoch 6/10\n",
      " - 55s - loss: 46630616.2560 - acc: 7.3099e-05\n",
      "Epoch 7/10\n",
      " - 55s - loss: 41214115.7549 - acc: 6.1557e-05\n",
      "Epoch 8/10\n",
      " - 54s - loss: 39827506.2081 - acc: 6.5405e-05\n",
      "Epoch 9/10\n",
      " - 54s - loss: 38727967.2948 - acc: 6.3481e-05\n",
      "Epoch 10/10\n",
      " - 54s - loss: 38282535.1379 - acc: 7.1176e-05\n",
      "Epoch 1/10\n",
      " - 56s - loss: 346559203.8496 - acc: 2.3084e-05\n",
      "Epoch 2/10\n",
      " - 54s - loss: 256937690.1742 - acc: 1.1542e-05\n",
      "Epoch 3/10\n",
      " - 55s - loss: 182081415.2938 - acc: 3.2702e-05\n",
      "Epoch 4/10\n",
      " - 54s - loss: 91891687.4114 - acc: 3.6550e-05\n",
      "Epoch 5/10\n",
      " - 53s - loss: 79216224.6593 - acc: 4.2321e-05\n",
      "Epoch 6/10\n",
      " - 54s - loss: 73278503.5703 - acc: 4.0397e-05\n",
      "Epoch 7/10\n",
      " - 54s - loss: 62630349.2538 - acc: 5.9634e-05\n",
      "Epoch 8/10\n",
      " - 54s - loss: 52330484.9791 - acc: 6.9252e-05\n",
      "Epoch 9/10\n",
      " - 55s - loss: 47008092.9726 - acc: 4.6168e-05\n",
      "Epoch 10/10\n",
      " - 55s - loss: 44523454.2196 - acc: 5.3863e-05\n",
      "Epoch 1/10\n",
      " - 55s - loss: 298326765.0878 - acc: 2.5008e-05\n",
      "Epoch 2/10\n",
      " - 54s - loss: 168648211.8725 - acc: 4.4244e-05\n",
      "Epoch 3/10\n",
      " - 54s - loss: 163494531.6419 - acc: 4.0397e-05\n",
      "Epoch 4/10\n",
      " - 56s - loss: 140133908.0618 - acc: 3.6550e-05\n",
      "Epoch 5/10\n",
      " - 55s - loss: 75720258.2571 - acc: 4.2321e-05\n",
      "Epoch 6/10\n",
      " - 55s - loss: 55999789.5643 - acc: 5.1939e-05\n",
      "Epoch 7/10\n",
      " - 57s - loss: 45543254.5814 - acc: 5.5786e-05\n",
      "Epoch 8/10\n",
      " - 54s - loss: 40825786.2686 - acc: 1.0580e-04\n",
      "Epoch 9/10\n",
      " - 55s - loss: 37689759.0706 - acc: 7.6947e-05\n",
      "Epoch 10/10\n",
      " - 55s - loss: 36133603.5080 - acc: 7.6947e-05\n",
      "Epoch 1/10\n",
      " - 56s - loss: 307775218.6022 - acc: 2.1160e-05\n",
      "Epoch 2/10\n",
      " - 56s - loss: 104227775.3543 - acc: 3.4626e-05\n",
      "Epoch 3/10\n",
      " - 56s - loss: 89483089.6457 - acc: 4.0397e-05\n",
      "Epoch 4/10\n",
      " - 55s - loss: 80769635.6161 - acc: 3.8473e-05\n",
      "Epoch 5/10\n",
      " - 55s - loss: 73733586.7218 - acc: 4.8092e-05\n",
      "Epoch 6/10\n",
      " - 54s - loss: 61281872.5994 - acc: 3.8473e-05\n",
      "Epoch 7/10\n",
      " - 55s - loss: 48491581.4733 - acc: 5.1939e-05\n",
      "Epoch 8/10\n",
      " - 54s - loss: 42988117.8870 - acc: 7.1176e-05\n",
      "Epoch 9/10\n",
      " - 54s - loss: 40378987.4986 - acc: 6.9252e-05\n",
      "Epoch 10/10\n",
      " - 55s - loss: 39247651.3602 - acc: 6.9252e-05\n",
      "Epoch 1/10\n",
      " - 55s - loss: 269436849.3294 - acc: 2.8855e-05\n",
      "Epoch 2/10\n",
      " - 54s - loss: 120565192.2780 - acc: 3.6550e-05\n",
      "Epoch 3/10\n",
      " - 53s - loss: 94830892.8769 - acc: 6.7328e-05\n",
      "Epoch 4/10\n",
      " - 52s - loss: 74947120.2932 - acc: 5.0015e-05\n",
      "Epoch 5/10\n",
      " - 53s - loss: 43288875.3142 - acc: 9.2336e-05\n",
      "Epoch 6/10\n",
      " - 54s - loss: 37935397.5763 - acc: 7.5023e-05\n",
      "Epoch 7/10\n",
      " - 54s - loss: 36549360.1816 - acc: 6.9252e-05\n",
      "Epoch 8/10\n",
      " - 54s - loss: 35820937.4899 - acc: 5.9634e-05\n",
      "Epoch 9/10\n",
      " - 53s - loss: 35294901.8851 - acc: 8.0794e-05\n",
      "Epoch 10/10\n",
      " - 53s - loss: 34889498.9487 - acc: 6.1557e-05\n",
      "Epoch 1/10\n",
      " - 64s - loss: 272746200.0229 - acc: 3.0779e-05\n",
      "Epoch 2/10\n",
      " - 61s - loss: 137059319.5093 - acc: 3.8473e-05\n",
      "Epoch 3/10\n",
      " - 64s - loss: 114921594.5214 - acc: 4.4244e-05\n",
      "Epoch 4/10\n",
      " - 62s - loss: 95220721.1948 - acc: 4.6168e-05\n",
      "Epoch 5/10\n",
      " - 61s - loss: 70705533.2352 - acc: 5.7710e-05\n",
      "Epoch 6/10\n"
     ]
    }
   ],
   "source": [
    "# Create grid search\n",
    "grid = GridSearchCV(estimator = neural_network, param_grid = hyperparameters, cv = 5)\n",
    "\n",
    "# Fit grid search\n",
    "grid_result = grid.fit(X_train, y_train, verbose = 2, callbacks= callbacks_list)"
   ]
  },
  {
   "cell_type": "code",
   "execution_count": null,
   "metadata": {},
   "outputs": [],
   "source": [
    "grid_result.best_params_"
   ]
  },
  {
   "cell_type": "code",
   "execution_count": null,
   "metadata": {},
   "outputs": [],
   "source": [
    "model.fit(X_train, y_train, epochs=5, batch_size=10, validation_split=0.1, verbose = 2, callbacks= callbacks_list)"
   ]
  },
  {
   "cell_type": "code",
   "execution_count": null,
   "metadata": {},
   "outputs": [],
   "source": [
    "predictions = model.predict(X_test)"
   ]
  },
  {
   "cell_type": "code",
   "execution_count": null,
   "metadata": {},
   "outputs": [],
   "source": [
    "plt.figure(figsize = (15,10))\n",
    "plt.scatter(y_test, predictions)\n",
    "plt.xlabel(\"Actual Price\")\n",
    "plt.ylabel(\"Predicted Price\")\n",
    "plt.plot([0,1], [0,1], 'r')\n",
    "plt.grid(True)\n",
    "\n"
   ]
  },
  {
   "cell_type": "code",
   "execution_count": null,
   "metadata": {},
   "outputs": [],
   "source": []
  }
 ],
 "metadata": {
  "kernelspec": {
   "display_name": "Python 3",
   "language": "python",
   "name": "python3"
  },
  "language_info": {
   "codemirror_mode": {
    "name": "ipython",
    "version": 3
   },
   "file_extension": ".py",
   "mimetype": "text/x-python",
   "name": "python",
   "nbconvert_exporter": "python",
   "pygments_lexer": "ipython3",
   "version": "3.6.6"
  }
 },
 "nbformat": 4,
 "nbformat_minor": 2
}
