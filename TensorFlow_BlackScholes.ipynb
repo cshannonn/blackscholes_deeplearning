{
 "cells": [
  {
   "cell_type": "markdown",
   "metadata": {},
   "source": [
    "### Generate Option Price Data Set"
   ]
  },
  {
   "cell_type": "code",
   "execution_count": 48,
   "metadata": {},
   "outputs": [],
   "source": [
    "import pandas as pd\n",
    "import numpy as np\n",
    "import scipy.stats as ss\n",
    "import matplotlib.pyplot as plt\n",
    "%matplotlib inline"
   ]
  },
  {
   "cell_type": "code",
   "execution_count": 49,
   "metadata": {},
   "outputs": [],
   "source": [
    "## Black Scholes Option Pricing Formula\n",
    "\n",
    "def BS_Call(S,K,r,T,v,d=0):\n",
    "    d1 = (np.log(float(S)/K)+((r-d)+v*v/2.)*T)/(v*np.sqrt(T))\n",
    "    d2 = d1-v*np.sqrt(T)\n",
    "    return S*np.exp(-d*T)*ss.norm.cdf(d1)-K*np.exp(-r*T)*ss.norm.cdf(d2)\n",
    "\n"
   ]
  },
  {
   "cell_type": "code",
   "execution_count": 50,
   "metadata": {},
   "outputs": [
    {
     "data": {
      "text/plain": [
       "1176120"
      ]
     },
     "execution_count": 50,
     "metadata": {},
     "output_type": "execute_result"
    }
   ],
   "source": [
    "## Build pandas dataframe of prices\n",
    "S = np.arange(1, 100, 1)\n",
    "K = np.arange(1, 100, 1)\n",
    "r = 0.05\n",
    "T = np.arange(0.05, 1, 0.1)\n",
    "V = np.arange(0.05, 0.5, 0.04)\n",
    "\n",
    "# Number of option prices = life begins at a million examples\n",
    "no_of_options = len(S)*len(K)*len(T)*len(V)\n",
    "no_of_options"
   ]
  },
  {
   "cell_type": "code",
   "execution_count": 51,
   "metadata": {},
   "outputs": [],
   "source": [
    "prices = np.empty([no_of_options,6], dtype=float)"
   ]
  },
  {
   "cell_type": "code",
   "execution_count": 52,
   "metadata": {},
   "outputs": [
    {
     "name": "stdout",
     "output_type": "stream",
     "text": [
      "Wall time: 2min 54s\n"
     ]
    }
   ],
   "source": [
    "%%time\n",
    "x = 0\n",
    "for s in S:\n",
    "    for k in K:\n",
    "        for t in T:\n",
    "            for v in V:\n",
    "                prices[x,:] = [s,k,t,0.05,v,BS_Call(s,k,r,t,v)]\n",
    "                x+=1"
   ]
  },
  {
   "cell_type": "code",
   "execution_count": 53,
   "metadata": {},
   "outputs": [],
   "source": [
    "option_df = pd.DataFrame(index = range(no_of_options), columns = \n",
    "                         ['Stock', \n",
    "                          'Strike',\n",
    "                          'Time',\n",
    "                          'Risk_free',\n",
    "                          'Volatility',\n",
    "                          'Call Price'], data = prices )"
   ]
  },
  {
   "cell_type": "code",
   "execution_count": 57,
   "metadata": {},
   "outputs": [
    {
     "data": {
      "text/html": [
       "<div>\n",
       "<style scoped>\n",
       "    .dataframe tbody tr th:only-of-type {\n",
       "        vertical-align: middle;\n",
       "    }\n",
       "\n",
       "    .dataframe tbody tr th {\n",
       "        vertical-align: top;\n",
       "    }\n",
       "\n",
       "    .dataframe thead th {\n",
       "        text-align: right;\n",
       "    }\n",
       "</style>\n",
       "<table border=\"1\" class=\"dataframe\">\n",
       "  <thead>\n",
       "    <tr style=\"text-align: right;\">\n",
       "      <th></th>\n",
       "      <th>Stock</th>\n",
       "      <th>Strike</th>\n",
       "      <th>Time</th>\n",
       "      <th>Risk_free</th>\n",
       "      <th>Volatility</th>\n",
       "      <th>Call Price</th>\n",
       "    </tr>\n",
       "  </thead>\n",
       "  <tbody>\n",
       "    <tr>\n",
       "      <th>1176110</th>\n",
       "      <td>99.0</td>\n",
       "      <td>99.0</td>\n",
       "      <td>0.95</td>\n",
       "      <td>0.05</td>\n",
       "      <td>0.13</td>\n",
       "      <td>7.520076</td>\n",
       "    </tr>\n",
       "    <tr>\n",
       "      <th>1176111</th>\n",
       "      <td>99.0</td>\n",
       "      <td>99.0</td>\n",
       "      <td>0.95</td>\n",
       "      <td>0.05</td>\n",
       "      <td>0.17</td>\n",
       "      <td>8.941301</td>\n",
       "    </tr>\n",
       "    <tr>\n",
       "      <th>1176112</th>\n",
       "      <td>99.0</td>\n",
       "      <td>99.0</td>\n",
       "      <td>0.95</td>\n",
       "      <td>0.05</td>\n",
       "      <td>0.21</td>\n",
       "      <td>10.389541</td>\n",
       "    </tr>\n",
       "    <tr>\n",
       "      <th>1176113</th>\n",
       "      <td>99.0</td>\n",
       "      <td>99.0</td>\n",
       "      <td>0.95</td>\n",
       "      <td>0.05</td>\n",
       "      <td>0.25</td>\n",
       "      <td>11.850355</td>\n",
       "    </tr>\n",
       "    <tr>\n",
       "      <th>1176114</th>\n",
       "      <td>99.0</td>\n",
       "      <td>99.0</td>\n",
       "      <td>0.95</td>\n",
       "      <td>0.05</td>\n",
       "      <td>0.29</td>\n",
       "      <td>13.316823</td>\n",
       "    </tr>\n",
       "    <tr>\n",
       "      <th>1176115</th>\n",
       "      <td>99.0</td>\n",
       "      <td>99.0</td>\n",
       "      <td>0.95</td>\n",
       "      <td>0.05</td>\n",
       "      <td>0.33</td>\n",
       "      <td>14.785075</td>\n",
       "    </tr>\n",
       "    <tr>\n",
       "      <th>1176116</th>\n",
       "      <td>99.0</td>\n",
       "      <td>99.0</td>\n",
       "      <td>0.95</td>\n",
       "      <td>0.05</td>\n",
       "      <td>0.37</td>\n",
       "      <td>16.252664</td>\n",
       "    </tr>\n",
       "    <tr>\n",
       "      <th>1176117</th>\n",
       "      <td>99.0</td>\n",
       "      <td>99.0</td>\n",
       "      <td>0.95</td>\n",
       "      <td>0.05</td>\n",
       "      <td>0.41</td>\n",
       "      <td>17.717881</td>\n",
       "    </tr>\n",
       "    <tr>\n",
       "      <th>1176118</th>\n",
       "      <td>99.0</td>\n",
       "      <td>99.0</td>\n",
       "      <td>0.95</td>\n",
       "      <td>0.05</td>\n",
       "      <td>0.45</td>\n",
       "      <td>19.179435</td>\n",
       "    </tr>\n",
       "    <tr>\n",
       "      <th>1176119</th>\n",
       "      <td>99.0</td>\n",
       "      <td>99.0</td>\n",
       "      <td>0.95</td>\n",
       "      <td>0.05</td>\n",
       "      <td>0.49</td>\n",
       "      <td>20.636284</td>\n",
       "    </tr>\n",
       "  </tbody>\n",
       "</table>\n",
       "</div>"
      ],
      "text/plain": [
       "         Stock  Strike  Time  Risk_free  Volatility  Call Price\n",
       "1176110   99.0    99.0  0.95       0.05        0.13    7.520076\n",
       "1176111   99.0    99.0  0.95       0.05        0.17    8.941301\n",
       "1176112   99.0    99.0  0.95       0.05        0.21   10.389541\n",
       "1176113   99.0    99.0  0.95       0.05        0.25   11.850355\n",
       "1176114   99.0    99.0  0.95       0.05        0.29   13.316823\n",
       "1176115   99.0    99.0  0.95       0.05        0.33   14.785075\n",
       "1176116   99.0    99.0  0.95       0.05        0.37   16.252664\n",
       "1176117   99.0    99.0  0.95       0.05        0.41   17.717881\n",
       "1176118   99.0    99.0  0.95       0.05        0.45   19.179435\n",
       "1176119   99.0    99.0  0.95       0.05        0.49   20.636284"
      ]
     },
     "execution_count": 57,
     "metadata": {},
     "output_type": "execute_result"
    }
   ],
   "source": [
    "option_df.tail(10)"
   ]
  },
  {
   "cell_type": "markdown",
   "metadata": {},
   "source": [
    "### Build Keras Model"
   ]
  },
  {
   "cell_type": "code",
   "execution_count": 56,
   "metadata": {},
   "outputs": [],
   "source": [
    "import os\n",
    "os.environ['CUDA_VISIBLE_DEVICES'] = '-1'"
   ]
  },
  {
   "cell_type": "code",
   "execution_count": 54,
   "metadata": {},
   "outputs": [],
   "source": [
    "import keras\n",
    "from keras.models import Sequential\n",
    "from keras.layers import Dense, Dropout, Flatten"
   ]
  },
  {
   "cell_type": "code",
   "execution_count": 55,
   "metadata": {},
   "outputs": [
    {
     "data": {
      "text/plain": [
       "588060"
      ]
     },
     "execution_count": 55,
     "metadata": {},
     "output_type": "execute_result"
    }
   ],
   "source": [
    "# Decide split for train and test set\n",
    "\n",
    "m = 0.5\n",
    "end = len(prices)\n",
    "split = int(m*end)\n",
    "split"
   ]
  },
  {
   "cell_type": "code",
   "execution_count": 58,
   "metadata": {},
   "outputs": [],
   "source": [
    "## Define X & Y\n",
    "X_train = prices[:split,:5]\n",
    "y_train = prices[:split,5:6]\n",
    "X_test = prices[split:end, :5]\n",
    "y_test = prices[split:end,5:6]\n"
   ]
  },
  {
   "cell_type": "code",
   "execution_count": 68,
   "metadata": {},
   "outputs": [],
   "source": [
    "model = Sequential()\n",
    "model.add(Dense(10, input_shape=(5,), activation='relu'))\n",
    "model.add(Dropout(0.2))\n",
    "model.add(Dense(10, activation='relu'))\n",
    "model.add(Dropout(0.2))\n",
    "model.add(Dense(10, activation='relu'))\n",
    "model.add(Dense(1))"
   ]
  },
  {
   "cell_type": "code",
   "execution_count": 69,
   "metadata": {},
   "outputs": [],
   "source": [
    "model.compile(loss='mean_squared_error',\n",
    "        optimizer='adam')"
   ]
  },
  {
   "cell_type": "code",
   "execution_count": 70,
   "metadata": {},
   "outputs": [
    {
     "name": "stdout",
     "output_type": "stream",
     "text": [
      "_________________________________________________________________\n",
      "Layer (type)                 Output Shape              Param #   \n",
      "=================================================================\n",
      "dense_11 (Dense)             (None, 10)                60        \n",
      "_________________________________________________________________\n",
      "dropout_3 (Dropout)          (None, 10)                0         \n",
      "_________________________________________________________________\n",
      "dense_12 (Dense)             (None, 10)                110       \n",
      "_________________________________________________________________\n",
      "dropout_4 (Dropout)          (None, 10)                0         \n",
      "_________________________________________________________________\n",
      "dense_13 (Dense)             (None, 10)                110       \n",
      "_________________________________________________________________\n",
      "dense_14 (Dense)             (None, 1)                 11        \n",
      "=================================================================\n",
      "Total params: 291\n",
      "Trainable params: 291\n",
      "Non-trainable params: 0\n",
      "_________________________________________________________________\n"
     ]
    }
   ],
   "source": [
    "model.summary()"
   ]
  },
  {
   "cell_type": "code",
   "execution_count": null,
   "metadata": {},
   "outputs": [
    {
     "name": "stdout",
     "output_type": "stream",
     "text": [
      "Epoch 1/10\n",
      "588060/588060 [==============================] - 46s 78us/step - loss: 17.3742\n",
      "Epoch 2/10\n",
      "588060/588060 [==============================] - 45s 77us/step - loss: 6.5878\n",
      "Epoch 3/10\n",
      "588060/588060 [==============================] - 46s 78us/step - loss: 5.5490\n",
      "Epoch 4/10\n",
      "588060/588060 [==============================] - 45s 77us/step - loss: 5.4500\n",
      "Epoch 5/10\n",
      "588060/588060 [==============================] - 46s 78us/step - loss: 4.9470\n",
      "Epoch 6/10\n",
      "588060/588060 [==============================] - 46s 77us/step - loss: 4.6254\n",
      "Epoch 7/10\n",
      "588060/588060 [==============================] - 45s 77us/step - loss: 4.8065\n",
      "Epoch 8/10\n",
      "588060/588060 [==============================] - 45s 77us/step - loss: 4.9450\n",
      "Epoch 9/10\n",
      "555960/588060 [===========================>..] - ETA: 2s - loss: 4.7647"
     ]
    }
   ],
   "source": [
    "model.fit(X_test, y_test, epochs=10, batch_size=10)"
   ]
  },
  {
   "cell_type": "code",
   "execution_count": 63,
   "metadata": {},
   "outputs": [],
   "source": [
    "predictions = model.predict(X_train)"
   ]
  },
  {
   "cell_type": "code",
   "execution_count": 62,
   "metadata": {},
   "outputs": [
    {
     "name": "stdout",
     "output_type": "stream",
     "text": [
      "[3.296135] [0.00581406]\n",
      "[3.316082] [0.00932863]\n",
      "[3.336029] [0.01287316]\n",
      "[3.355978] [0.01642639]\n",
      "[3.375924] [0.01998314]\n",
      "[3.395872] [0.02354151]\n",
      "[3.4158182] [0.0271006]\n",
      "[3.4357672] [0.03065993]\n",
      "[3.4557142] [0.03421916]\n",
      "[3.4756622] [0.0377781]\n",
      "[3.4956093] [0.04133657]\n",
      "[3.5155563] [0.04489443]\n",
      "[3.3335295] [0.01200258]\n",
      "[3.3534775] [0.0179086]\n",
      "[3.3734236] [0.02396661]\n",
      "[3.3933716] [0.03006926]\n",
      "[3.4133186] [0.0361901]\n",
      "[3.4332666] [0.04231931]\n",
      "[3.4532137] [0.04845226]\n",
      "[3.4731627] [0.05458638]\n",
      "[3.4931107] [0.06072007]\n",
      "[3.5130558] [0.06685219]\n",
      "[3.5330038] [0.07298188]\n",
      "[3.5529518] [0.07910846]\n",
      "[3.370925] [0.01733611]\n",
      "[3.390873] [0.02473422]\n",
      "[3.410819] [0.03245155]\n",
      "[3.430766] [0.04026384]\n",
      "[3.450714] [0.04811498]\n",
      "[3.470662] [0.055984]\n",
      "[3.4906092] [0.06386103]\n",
      "[3.5105562] [0.07174059]\n",
      "[3.5305042] [0.0796192]\n",
      "[3.5504513] [0.08749446]\n",
      "[3.5703993] [0.09536454]\n",
      "[3.5903473] [0.10322794]\n",
      "[3.4083185] [0.02236124]\n",
      "[3.4282665] [0.03085551]\n",
      "[3.4482136] [0.03986594]\n",
      "[3.4681616] [0.0490319]\n",
      "[3.4881096] [0.05826173]\n",
      "[3.5080576] [0.06752102]\n",
      "[3.5280037] [0.07679349]\n",
      "[3.5479507] [0.08607012]\n",
      "[3.5678997] [0.0953452]\n",
      "[3.5878468] [0.10461476]\n",
      "[3.6077948] [0.11387577]\n",
      "[3.6277409] [0.12312579]\n",
      "[3.445713] [0.02722568]\n",
      "[3.465662] [0.0365728]\n"
     ]
    }
   ],
   "source": [
    "for x in range(50):\n",
    "    print(predictions[x], y_train[x])"
   ]
  },
  {
   "cell_type": "code",
   "execution_count": null,
   "metadata": {},
   "outputs": [],
   "source": []
  }
 ],
 "metadata": {
  "kernelspec": {
   "display_name": "Python 3",
   "language": "python",
   "name": "python3"
  },
  "language_info": {
   "codemirror_mode": {
    "name": "ipython",
    "version": 3
   },
   "file_extension": ".py",
   "mimetype": "text/x-python",
   "name": "python",
   "nbconvert_exporter": "python",
   "pygments_lexer": "ipython3",
   "version": "3.6.6"
  }
 },
 "nbformat": 4,
 "nbformat_minor": 2
}
