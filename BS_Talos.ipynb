{
 "cells": [
  {
   "cell_type": "markdown",
   "metadata": {},
   "source": [
    "### Import Libraries"
   ]
  },
  {
   "cell_type": "code",
   "execution_count": 1,
   "metadata": {},
   "outputs": [],
   "source": [
    "from hyperas.distributions import uniform"
   ]
  },
  {
   "cell_type": "code",
   "execution_count": 2,
   "metadata": {},
   "outputs": [
    {
     "name": "stderr",
     "output_type": "stream",
     "text": [
      "Using TensorFlow backend.\n"
     ]
    }
   ],
   "source": [
    "import pandas as pd\n",
    "import numpy as np\n",
    "import scipy.stats as ss\n",
    "import matplotlib.pyplot as plt\n",
    "%matplotlib inline\n",
    "\n",
    "import keras\n",
    "import tensorflow as tf\n",
    "from keras.models import Sequential\n",
    "from keras.layers import Activation, Dense, Dropout, Flatten\n",
    "from keras import backend\n",
    "from keras.callbacks import EarlyStopping\n",
    "from keras.wrappers.scikit_learn import KerasClassifier\n",
    "from sklearn.model_selection import GridSearchCV\n",
    "from sklearn.datasets import make_classification\n",
    "from sklearn.model_selection import train_test_split"
   ]
  },
  {
   "cell_type": "code",
   "execution_count": 3,
   "metadata": {},
   "outputs": [
    {
     "name": "stdout",
     "output_type": "stream",
     "text": [
      "2.2.4\n",
      "1.10.0\n"
     ]
    }
   ],
   "source": [
    "# Versioning\n",
    "print(keras.__version__)\n",
    "print(tf.__version__)"
   ]
  },
  {
   "cell_type": "markdown",
   "metadata": {},
   "source": [
    "### Read in Normalized Option Pricing Data Set"
   ]
  },
  {
   "cell_type": "code",
   "execution_count": 4,
   "metadata": {},
   "outputs": [],
   "source": [
    "option_df = pd.read_pickle(\"opt_data_z.pkl\")\n",
    "## Move data into numpy array\n",
    "prices = option_df.values"
   ]
  },
  {
   "cell_type": "code",
   "execution_count": 5,
   "metadata": {},
   "outputs": [],
   "source": [
    "# X values\n",
    "X = prices[:,:4]\n",
    "\n",
    "# Y values \n",
    "y = prices[:,4:5]\n",
    "\n",
    "# Use Sklearn library to randomly split data into training/testing set\n",
    "X_train, X_test, y_train, y_test = train_test_split(X, y, test_size=0.2, random_state=42)"
   ]
  },
  {
   "cell_type": "markdown",
   "metadata": {},
   "source": [
    "#### Build Keras/Scikit Learn Function"
   ]
  },
  {
   "cell_type": "code",
   "execution_count": 6,
   "metadata": {},
   "outputs": [],
   "source": [
    "def create_model():\n",
    "\n",
    "    nodes = 200\n",
    "\n",
    "    # Create Model\n",
    "    model = Sequential()\n",
    "\n",
    "    # Layer 1\n",
    "    model.add(Dense(nodes, input_shape=(4,))) \n",
    "    model.add(Activation('relu'))\n",
    "    model.add(Dropout({{uniform(0, 1)}}))\n",
    "\n",
    "    # Layer 2\n",
    "    model.add(Dense(nodes)) \n",
    "    model.add(Activation ('relu'))\n",
    "    model.add(Dropout({{uniform(0, 1)}}))\n",
    "\n",
    "    # Layer 3\n",
    "    model.add(Dense(nodes))\n",
    "    model.add(Activation ('relu'))\n",
    "    model.add(Dropout({{uniform(0, 1)}}))\n",
    "\n",
    "    # Layer 4 - Output Layer\n",
    "    model.add(Dense(1))\n",
    "    model.add(Activation('elu'))\n",
    "    \n",
    "    model.compile(loss='mse', optimizer = 'rmsprop', metrics=['accuracy'])\n",
    "    \n",
    "    result = model.fit(X_train, y_train,\n",
    "              batch_size=64,\n",
    "              epochs=2,\n",
    "              verbose=2,\n",
    "              validation_split=0.1)\n",
    "    \n",
    "    validation_acc = np.amax(result.history['val_acc']) \n",
    "    print('Best validation acc of epoch:', validation_acc)\n",
    "    return {'loss': -validation_acc, 'status': STATUS_OK, 'model': model}"
   ]
  },
  {
   "cell_type": "code",
   "execution_count": 7,
   "metadata": {},
   "outputs": [],
   "source": [
    "from hyperopt import Trials, STATUS_OK, tpe\n",
    "from hyperas import optim\n",
    "from hyperas.distributions import choice, uniform"
   ]
  },
  {
   "cell_type": "code",
   "execution_count": 16,
   "metadata": {},
   "outputs": [],
   "source": [
    "from __future__ import print_function\n",
    "import numpy as np\n",
    "\n",
    "from hyperopt import Trials, STATUS_OK, tpe\n",
    "from keras.datasets import mnist\n",
    "from keras.layers.core import Dense, Dropout, Activation\n",
    "from keras.models import Sequential\n",
    "from keras.utils import np_utils\n",
    "\n",
    "from hyperas import optim\n",
    "from hyperas.distributions import choice, uniform\n",
    "\n",
    "\n",
    "def data():\n",
    "    \"\"\"\n",
    "    Data providing function:\n",
    "\n",
    "    This function is separated from create_model() so that hyperopt\n",
    "    won't reload data for each evaluation run.\n",
    "    \"\"\"\n",
    "    (x_train, y_train), (x_test, y_test) = mnist.load_data()\n",
    "    x_train = x_train.reshape(60000, 784)\n",
    "    x_test = x_test.reshape(10000, 784)\n",
    "    x_train = x_train.astype('float32')\n",
    "    x_test = x_test.astype('float32')\n",
    "    x_train /= 255\n",
    "    x_test /= 255\n",
    "    nb_classes = 10\n",
    "    y_train = np_utils.to_categorical(y_train, nb_classes)\n",
    "    y_test = np_utils.to_categorical(y_test, nb_classes)\n",
    "    return x_train, y_train, x_test, y_test\n",
    "\n",
    "\n",
    "def create_model(x_train, y_train, x_test, y_test):\n",
    "    \"\"\"\n",
    "    Model providing function:\n",
    "\n",
    "    Create Keras model with double curly brackets dropped-in as needed.\n",
    "    Return value has to be a valid python dictionary with two customary keys:\n",
    "        - loss: Specify a numeric evaluation metric to be minimized\n",
    "        - status: Just use STATUS_OK and see hyperopt documentation if not feasible\n",
    "    The last one is optional, though recommended, namely:\n",
    "        - model: specify the model just created so that we can later use it again.\n",
    "    \"\"\"\n",
    "    model = Sequential()\n",
    "    model.add(Dense(512, input_shape=(784,)))\n",
    "    model.add(Activation('relu'))\n",
    "    model.add(Dropout({{uniform(0, 1)}}))\n",
    "    model.add(Dense({{choice([256, 512, 1024])}}))\n",
    "    model.add(Activation({{choice(['relu', 'sigmoid'])}}))\n",
    "    model.add(Dropout({{uniform(0, 1)}}))\n",
    "\n",
    "    # If we choose 'four', add an additional fourth layer\n",
    "    if {{choice(['three', 'four'])}} == 'four':\n",
    "        model.add(Dense(100))\n",
    "\n",
    "        # We can also choose between complete sets of layers\n",
    "\n",
    "        model.add({{choice([Dropout(0.5), Activation('linear')])}})\n",
    "        model.add(Activation('relu'))\n",
    "\n",
    "    model.add(Dense(10))\n",
    "    model.add(Activation('softmax'))\n",
    "\n",
    "    model.compile(loss='categorical_crossentropy', metrics=['accuracy'],\n",
    "                  optimizer={{choice(['rmsprop', 'adam', 'sgd'])}})\n",
    "\n",
    "    result = model.fit(x_train, y_train,\n",
    "              batch_size={{choice([64, 128])}},\n",
    "              epochs=2,\n",
    "              verbose=2,\n",
    "              validation_split=0.1)\n",
    "    #get the highest validation accuracy of the training epochs\n",
    "    validation_acc = np.amax(result.history['val_acc']) \n",
    "    print('Best validation acc of epoch:', validation_acc)\n",
    "    return {'loss': -validation_acc, 'status': STATUS_OK, 'model': model}\n",
    "\n",
    "\n"
   ]
  },
  {
   "cell_type": "code",
   "execution_count": 17,
   "metadata": {},
   "outputs": [
    {
     "ename": "OSError",
     "evalue": "[Errno 22] Invalid argument: 'C:\\\\Users\\\\blues\\\\Desktop\\\\Python\\\\blackscholes_nas\\\\<ipython-input-17-b978c4c90872>'",
     "output_type": "error",
     "traceback": [
      "\u001b[1;31m---------------------------------------------------------------------------\u001b[0m",
      "\u001b[1;31mOSError\u001b[0m                                   Traceback (most recent call last)",
      "\u001b[1;32m<ipython-input-17-b978c4c90872>\u001b[0m in \u001b[0;36m<module>\u001b[1;34m\u001b[0m\n\u001b[0;32m      4\u001b[0m                                           \u001b[0malgo\u001b[0m\u001b[1;33m=\u001b[0m\u001b[0mtpe\u001b[0m\u001b[1;33m.\u001b[0m\u001b[0msuggest\u001b[0m\u001b[1;33m,\u001b[0m\u001b[1;33m\u001b[0m\u001b[0m\n\u001b[0;32m      5\u001b[0m                                           \u001b[0mmax_evals\u001b[0m\u001b[1;33m=\u001b[0m\u001b[1;36m5\u001b[0m\u001b[1;33m,\u001b[0m\u001b[1;33m\u001b[0m\u001b[0m\n\u001b[1;32m----> 6\u001b[1;33m                                           trials=Trials())\n\u001b[0m\u001b[0;32m      7\u001b[0m     \u001b[0mX_train\u001b[0m\u001b[1;33m,\u001b[0m \u001b[0mY_train\u001b[0m\u001b[1;33m,\u001b[0m \u001b[0mX_test\u001b[0m\u001b[1;33m,\u001b[0m \u001b[0mY_test\u001b[0m \u001b[1;33m=\u001b[0m \u001b[0mdata\u001b[0m\u001b[1;33m(\u001b[0m\u001b[1;33m)\u001b[0m\u001b[1;33m\u001b[0m\u001b[0m\n\u001b[0;32m      8\u001b[0m     \u001b[0mprint\u001b[0m\u001b[1;33m(\u001b[0m\u001b[1;34m\"Evalutation of best performing model:\"\u001b[0m\u001b[1;33m)\u001b[0m\u001b[1;33m\u001b[0m\u001b[0m\n",
      "\u001b[1;32m~\\Anaconda3\\lib\\site-packages\\hyperas\\optim.py\u001b[0m in \u001b[0;36mminimize\u001b[1;34m(model, data, algo, max_evals, trials, functions, rseed, notebook_name, verbose, eval_space, return_space)\u001b[0m\n\u001b[0;32m     65\u001b[0m                                      \u001b[0mfull_model_string\u001b[0m\u001b[1;33m=\u001b[0m\u001b[1;32mNone\u001b[0m\u001b[1;33m,\u001b[0m\u001b[1;33m\u001b[0m\u001b[0m\n\u001b[0;32m     66\u001b[0m                                      \u001b[0mnotebook_name\u001b[0m\u001b[1;33m=\u001b[0m\u001b[0mnotebook_name\u001b[0m\u001b[1;33m,\u001b[0m\u001b[1;33m\u001b[0m\u001b[0m\n\u001b[1;32m---> 67\u001b[1;33m                                      verbose=verbose)\n\u001b[0m\u001b[0;32m     68\u001b[0m \u001b[1;33m\u001b[0m\u001b[0m\n\u001b[0;32m     69\u001b[0m     \u001b[0mbest_model\u001b[0m \u001b[1;33m=\u001b[0m \u001b[1;32mNone\u001b[0m\u001b[1;33m\u001b[0m\u001b[0m\n",
      "\u001b[1;32m~\\Anaconda3\\lib\\site-packages\\hyperas\\optim.py\u001b[0m in \u001b[0;36mbase_minimizer\u001b[1;34m(model, data, functions, algo, max_evals, trials, rseed, full_model_string, notebook_name, verbose, stack)\u001b[0m\n\u001b[0;32m     94\u001b[0m         \u001b[0mmodel_str\u001b[0m \u001b[1;33m=\u001b[0m \u001b[0mfull_model_string\u001b[0m\u001b[1;33m\u001b[0m\u001b[0m\n\u001b[0;32m     95\u001b[0m     \u001b[1;32melse\u001b[0m\u001b[1;33m:\u001b[0m\u001b[1;33m\u001b[0m\u001b[0m\n\u001b[1;32m---> 96\u001b[1;33m         \u001b[0mmodel_str\u001b[0m \u001b[1;33m=\u001b[0m \u001b[0mget_hyperopt_model_string\u001b[0m\u001b[1;33m(\u001b[0m\u001b[0mmodel\u001b[0m\u001b[1;33m,\u001b[0m \u001b[0mdata\u001b[0m\u001b[1;33m,\u001b[0m \u001b[0mfunctions\u001b[0m\u001b[1;33m,\u001b[0m \u001b[0mnotebook_name\u001b[0m\u001b[1;33m,\u001b[0m \u001b[0mverbose\u001b[0m\u001b[1;33m,\u001b[0m \u001b[0mstack\u001b[0m\u001b[1;33m)\u001b[0m\u001b[1;33m\u001b[0m\u001b[0m\n\u001b[0m\u001b[0;32m     97\u001b[0m     \u001b[0mtemp_file\u001b[0m \u001b[1;33m=\u001b[0m \u001b[1;34m'./temp_model.py'\u001b[0m\u001b[1;33m\u001b[0m\u001b[0m\n\u001b[0;32m     98\u001b[0m     \u001b[0mwrite_temp_files\u001b[0m\u001b[1;33m(\u001b[0m\u001b[0mmodel_str\u001b[0m\u001b[1;33m,\u001b[0m \u001b[0mtemp_file\u001b[0m\u001b[1;33m)\u001b[0m\u001b[1;33m\u001b[0m\u001b[0m\n",
      "\u001b[1;32m~\\Anaconda3\\lib\\site-packages\\hyperas\\optim.py\u001b[0m in \u001b[0;36mget_hyperopt_model_string\u001b[1;34m(model, data, functions, notebook_name, verbose, stack)\u001b[0m\n\u001b[0;32m    176\u001b[0m     \u001b[1;32melse\u001b[0m\u001b[1;33m:\u001b[0m\u001b[1;33m\u001b[0m\u001b[0m\n\u001b[0;32m    177\u001b[0m         \u001b[0mcalling_script_file\u001b[0m \u001b[1;33m=\u001b[0m \u001b[0mos\u001b[0m\u001b[1;33m.\u001b[0m\u001b[0mpath\u001b[0m\u001b[1;33m.\u001b[0m\u001b[0mabspath\u001b[0m\u001b[1;33m(\u001b[0m\u001b[0minspect\u001b[0m\u001b[1;33m.\u001b[0m\u001b[0mstack\u001b[0m\u001b[1;33m(\u001b[0m\u001b[1;33m)\u001b[0m\u001b[1;33m[\u001b[0m\u001b[0mstack\u001b[0m\u001b[1;33m]\u001b[0m\u001b[1;33m[\u001b[0m\u001b[1;36m1\u001b[0m\u001b[1;33m]\u001b[0m\u001b[1;33m)\u001b[0m\u001b[1;33m\u001b[0m\u001b[0m\n\u001b[1;32m--> 178\u001b[1;33m         \u001b[1;32mwith\u001b[0m \u001b[0mopen\u001b[0m\u001b[1;33m(\u001b[0m\u001b[0mcalling_script_file\u001b[0m\u001b[1;33m,\u001b[0m \u001b[1;34m'r'\u001b[0m\u001b[1;33m)\u001b[0m \u001b[1;32mas\u001b[0m \u001b[0mf\u001b[0m\u001b[1;33m:\u001b[0m\u001b[1;33m\u001b[0m\u001b[0m\n\u001b[0m\u001b[0;32m    179\u001b[0m             \u001b[0msource\u001b[0m \u001b[1;33m=\u001b[0m \u001b[0mf\u001b[0m\u001b[1;33m.\u001b[0m\u001b[0mread\u001b[0m\u001b[1;33m(\u001b[0m\u001b[1;33m)\u001b[0m\u001b[1;33m\u001b[0m\u001b[0m\n\u001b[0;32m    180\u001b[0m \u001b[1;33m\u001b[0m\u001b[0m\n",
      "\u001b[1;31mOSError\u001b[0m: [Errno 22] Invalid argument: 'C:\\\\Users\\\\blues\\\\Desktop\\\\Python\\\\blackscholes_nas\\\\<ipython-input-17-b978c4c90872>'"
     ]
    }
   ],
   "source": [
    "if __name__ == '__main__':\n",
    "    best_run, best_model = optim.minimize(model=create_model,\n",
    "                                          data=data,\n",
    "                                          algo=tpe.suggest,\n",
    "                                          max_evals=5,\n",
    "                                          trials=Trials())\n",
    "    X_train, Y_train, X_test, Y_test = data()\n",
    "    print(\"Evalutation of best performing model:\")\n",
    "    print(best_model.evaluate(X_test, Y_test))\n",
    "    print(\"Best performing model chosen hyper-parameters:\")\n",
    "    print(best_run)"
   ]
  },
  {
   "cell_type": "code",
   "execution_count": 14,
   "metadata": {},
   "outputs": [
    {
     "ename": "OSError",
     "evalue": "[Errno 22] Invalid argument: 'C:\\\\Users\\\\blues\\\\Desktop\\\\Python\\\\blackscholes_nas\\\\<ipython-input-14-8073bdcfa1c7>'",
     "output_type": "error",
     "traceback": [
      "\u001b[1;31m---------------------------------------------------------------------------\u001b[0m",
      "\u001b[1;31mOSError\u001b[0m                                   Traceback (most recent call last)",
      "\u001b[1;32m<ipython-input-14-8073bdcfa1c7>\u001b[0m in \u001b[0;36m<module>\u001b[1;34m\u001b[0m\n\u001b[0;32m      4\u001b[0m                                           \u001b[0malgo\u001b[0m\u001b[1;33m=\u001b[0m\u001b[0mtpe\u001b[0m\u001b[1;33m.\u001b[0m\u001b[0msuggest\u001b[0m\u001b[1;33m,\u001b[0m\u001b[1;33m\u001b[0m\u001b[0m\n\u001b[0;32m      5\u001b[0m                                           \u001b[0mmax_evals\u001b[0m\u001b[1;33m=\u001b[0m\u001b[1;36m5\u001b[0m\u001b[1;33m,\u001b[0m\u001b[1;33m\u001b[0m\u001b[0m\n\u001b[1;32m----> 6\u001b[1;33m                                           trials=Trials())\n\u001b[0m",
      "\u001b[1;32m~\\Anaconda3\\lib\\site-packages\\hyperas\\optim.py\u001b[0m in \u001b[0;36mminimize\u001b[1;34m(model, data, algo, max_evals, trials, functions, rseed, notebook_name, verbose, eval_space, return_space)\u001b[0m\n\u001b[0;32m     65\u001b[0m                                      \u001b[0mfull_model_string\u001b[0m\u001b[1;33m=\u001b[0m\u001b[1;32mNone\u001b[0m\u001b[1;33m,\u001b[0m\u001b[1;33m\u001b[0m\u001b[0m\n\u001b[0;32m     66\u001b[0m                                      \u001b[0mnotebook_name\u001b[0m\u001b[1;33m=\u001b[0m\u001b[0mnotebook_name\u001b[0m\u001b[1;33m,\u001b[0m\u001b[1;33m\u001b[0m\u001b[0m\n\u001b[1;32m---> 67\u001b[1;33m                                      verbose=verbose)\n\u001b[0m\u001b[0;32m     68\u001b[0m \u001b[1;33m\u001b[0m\u001b[0m\n\u001b[0;32m     69\u001b[0m     \u001b[0mbest_model\u001b[0m \u001b[1;33m=\u001b[0m \u001b[1;32mNone\u001b[0m\u001b[1;33m\u001b[0m\u001b[0m\n",
      "\u001b[1;32m~\\Anaconda3\\lib\\site-packages\\hyperas\\optim.py\u001b[0m in \u001b[0;36mbase_minimizer\u001b[1;34m(model, data, functions, algo, max_evals, trials, rseed, full_model_string, notebook_name, verbose, stack)\u001b[0m\n\u001b[0;32m     94\u001b[0m         \u001b[0mmodel_str\u001b[0m \u001b[1;33m=\u001b[0m \u001b[0mfull_model_string\u001b[0m\u001b[1;33m\u001b[0m\u001b[0m\n\u001b[0;32m     95\u001b[0m     \u001b[1;32melse\u001b[0m\u001b[1;33m:\u001b[0m\u001b[1;33m\u001b[0m\u001b[0m\n\u001b[1;32m---> 96\u001b[1;33m         \u001b[0mmodel_str\u001b[0m \u001b[1;33m=\u001b[0m \u001b[0mget_hyperopt_model_string\u001b[0m\u001b[1;33m(\u001b[0m\u001b[0mmodel\u001b[0m\u001b[1;33m,\u001b[0m \u001b[0mdata\u001b[0m\u001b[1;33m,\u001b[0m \u001b[0mfunctions\u001b[0m\u001b[1;33m,\u001b[0m \u001b[0mnotebook_name\u001b[0m\u001b[1;33m,\u001b[0m \u001b[0mverbose\u001b[0m\u001b[1;33m,\u001b[0m \u001b[0mstack\u001b[0m\u001b[1;33m)\u001b[0m\u001b[1;33m\u001b[0m\u001b[0m\n\u001b[0m\u001b[0;32m     97\u001b[0m     \u001b[0mtemp_file\u001b[0m \u001b[1;33m=\u001b[0m \u001b[1;34m'./temp_model.py'\u001b[0m\u001b[1;33m\u001b[0m\u001b[0m\n\u001b[0;32m     98\u001b[0m     \u001b[0mwrite_temp_files\u001b[0m\u001b[1;33m(\u001b[0m\u001b[0mmodel_str\u001b[0m\u001b[1;33m,\u001b[0m \u001b[0mtemp_file\u001b[0m\u001b[1;33m)\u001b[0m\u001b[1;33m\u001b[0m\u001b[0m\n",
      "\u001b[1;32m~\\Anaconda3\\lib\\site-packages\\hyperas\\optim.py\u001b[0m in \u001b[0;36mget_hyperopt_model_string\u001b[1;34m(model, data, functions, notebook_name, verbose, stack)\u001b[0m\n\u001b[0;32m    176\u001b[0m     \u001b[1;32melse\u001b[0m\u001b[1;33m:\u001b[0m\u001b[1;33m\u001b[0m\u001b[0m\n\u001b[0;32m    177\u001b[0m         \u001b[0mcalling_script_file\u001b[0m \u001b[1;33m=\u001b[0m \u001b[0mos\u001b[0m\u001b[1;33m.\u001b[0m\u001b[0mpath\u001b[0m\u001b[1;33m.\u001b[0m\u001b[0mabspath\u001b[0m\u001b[1;33m(\u001b[0m\u001b[0minspect\u001b[0m\u001b[1;33m.\u001b[0m\u001b[0mstack\u001b[0m\u001b[1;33m(\u001b[0m\u001b[1;33m)\u001b[0m\u001b[1;33m[\u001b[0m\u001b[0mstack\u001b[0m\u001b[1;33m]\u001b[0m\u001b[1;33m[\u001b[0m\u001b[1;36m1\u001b[0m\u001b[1;33m]\u001b[0m\u001b[1;33m)\u001b[0m\u001b[1;33m\u001b[0m\u001b[0m\n\u001b[1;32m--> 178\u001b[1;33m         \u001b[1;32mwith\u001b[0m \u001b[0mopen\u001b[0m\u001b[1;33m(\u001b[0m\u001b[0mcalling_script_file\u001b[0m\u001b[1;33m,\u001b[0m \u001b[1;34m'r'\u001b[0m\u001b[1;33m)\u001b[0m \u001b[1;32mas\u001b[0m \u001b[0mf\u001b[0m\u001b[1;33m:\u001b[0m\u001b[1;33m\u001b[0m\u001b[0m\n\u001b[0m\u001b[0;32m    179\u001b[0m             \u001b[0msource\u001b[0m \u001b[1;33m=\u001b[0m \u001b[0mf\u001b[0m\u001b[1;33m.\u001b[0m\u001b[0mread\u001b[0m\u001b[1;33m(\u001b[0m\u001b[1;33m)\u001b[0m\u001b[1;33m\u001b[0m\u001b[0m\n\u001b[0;32m    180\u001b[0m \u001b[1;33m\u001b[0m\u001b[0m\n",
      "\u001b[1;31mOSError\u001b[0m: [Errno 22] Invalid argument: 'C:\\\\Users\\\\blues\\\\Desktop\\\\Python\\\\blackscholes_nas\\\\<ipython-input-14-8073bdcfa1c7>'"
     ]
    }
   ],
   "source": [
    "data = X_train, y_train, X_test, y_test \n",
    "best_run, best_model = optim.minimize(model=create_model,\n",
    "                                          data= data,\n",
    "                                          algo=tpe.suggest,\n",
    "                                          max_evals=5,\n",
    "                                          trials=Trials())\n"
   ]
  },
  {
   "cell_type": "markdown",
   "metadata": {},
   "source": [
    "#### Instantiate Keras Classifier"
   ]
  },
  {
   "cell_type": "code",
   "execution_count": 34,
   "metadata": {},
   "outputs": [],
   "source": [
    "neural_network = KerasClassifier(build_fn = create_model, verbose = 0)"
   ]
  },
  {
   "cell_type": "markdown",
   "metadata": {},
   "source": [
    "#### Define Search Parameters "
   ]
  },
  {
   "cell_type": "code",
   "execution_count": 36,
   "metadata": {},
   "outputs": [],
   "source": [
    "epochs = [5, 10]\n",
    "batches = [5, 10]\n",
    "optimizers = ['rmsprop', 'adam']\n",
    "\n",
    "hyperparameters = dict(optimizer=optimizers, epochs=epochs)"
   ]
  },
  {
   "cell_type": "code",
   "execution_count": 39,
   "metadata": {},
   "outputs": [],
   "source": [
    "callbacks_list = [EarlyStopping(monitor = 'loss', patience = 1)]"
   ]
  },
  {
   "cell_type": "code",
   "execution_count": null,
   "metadata": {},
   "outputs": [
    {
     "name": "stdout",
     "output_type": "stream",
     "text": [
      "Epoch 1/5\n",
      " - 54s - loss: 278407250.5027 - acc: 3.8473e-05\n",
      "Epoch 2/5\n",
      " - 52s - loss: 111185377.3529 - acc: 3.8473e-05\n",
      "Epoch 3/5\n",
      " - 52s - loss: 95286021.6036 - acc: 3.4626e-05\n",
      "Epoch 4/5\n",
      " - 51s - loss: 84456209.2750 - acc: 6.9252e-05\n",
      "Epoch 5/5\n",
      " - 52s - loss: 71911055.9303 - acc: 5.7710e-05\n",
      "Epoch 1/5\n",
      " - 52s - loss: 314273175.6582 - acc: 2.6931e-05\n",
      "Epoch 2/5\n",
      " - 52s - loss: 114244877.4193 - acc: 5.3863e-05\n",
      "Epoch 3/5\n",
      " - 52s - loss: 95644518.3819 - acc: 4.8092e-05\n",
      "Epoch 4/5\n",
      " - 55s - loss: 86969550.6744 - acc: 1.9237e-05\n",
      "Epoch 5/5\n",
      " - 53s - loss: 78264517.7778 - acc: 4.8092e-05\n",
      "Epoch 1/5\n",
      " - 150s - loss: 350528780.6335 - acc: 2.1160e-05\n",
      "Epoch 2/5\n",
      " - 145s - loss: 151824017.4104 - acc: 2.5008e-05\n",
      "Epoch 3/5\n",
      " - 145s - loss: 97588715.2068 - acc: 4.2321e-05\n",
      "Epoch 4/5\n",
      " - 145s - loss: 88696925.0118 - acc: 4.4244e-05\n",
      "Epoch 5/5\n",
      " - 145s - loss: 81593974.0458 - acc: 5.1939e-05\n",
      "Epoch 1/5\n",
      " - 143s - loss: 350501651.1552 - acc: 2.8855e-05\n",
      "Epoch 2/5\n",
      " - 146s - loss: 173938061.9479 - acc: 3.6550e-05\n",
      "Epoch 3/5\n",
      " - 146s - loss: 102524695.7591 - acc: 4.4244e-05\n",
      "Epoch 4/5\n",
      " - 154s - loss: 91505147.0237 - acc: 5.1939e-05\n",
      "Epoch 5/5\n",
      " - 166s - loss: 84018952.1658 - acc: 4.0397e-05\n",
      "Epoch 1/5\n",
      " - 162s - loss: 346674495.5853 - acc: 1.7313e-05\n",
      "Epoch 2/5\n",
      " - 111s - loss: 259389003.9032 - acc: 1.3466e-05\n",
      "Epoch 3/5\n",
      " - 51s - loss: 195841072.1866 - acc: 2.8855e-05\n",
      "Epoch 4/5\n",
      " - 52s - loss: 103954149.6916 - acc: 4.0397e-05\n",
      "Epoch 5/5\n",
      " - 51s - loss: 89254323.3561 - acc: 2.8855e-05\n",
      "Epoch 1/5\n",
      " - 59s - loss: 342878436.1032 - acc: 2.3084e-05\n",
      "Epoch 2/5\n",
      " - 58s - loss: 259045651.6329 - acc: 2.3084e-05\n",
      "Epoch 3/5\n",
      " - 59s - loss: 257552453.2688 - acc: 2.6931e-05\n",
      "Epoch 4/5\n",
      " - 56s - loss: 256251493.4308 - acc: 3.2702e-05\n",
      "Epoch 5/5\n",
      " - 57s - loss: 253979471.6661 - acc: 2.5008e-05\n",
      "Epoch 1/5\n",
      " - 59s - loss: 342994562.4559 - acc: 1.3466e-05\n",
      "Epoch 2/5\n",
      " - 59s - loss: 246836772.3056 - acc: 1.9237e-05\n",
      "Epoch 3/5\n",
      " - 63s - loss: 180593682.8156 - acc: 5.3863e-05\n",
      "Epoch 4/5\n",
      " - 62s - loss: 133843970.1630 - acc: 4.0397e-05\n",
      "Epoch 5/5\n",
      " - 59s - loss: 109073806.4362 - acc: 3.2702e-05\n",
      "Epoch 1/5\n",
      " - 58s - loss: 344559250.2338 - acc: 1.9237e-05\n",
      "Epoch 2/5\n",
      " - 58s - loss: 261610424.2615 - acc: 2.6931e-05\n",
      "Epoch 3/5\n",
      " - 58s - loss: 260088386.5593 - acc: 3.0779e-05\n",
      "Epoch 4/5\n",
      " - 61s - loss: 258580433.4262 - acc: 9.6183e-06\n",
      "Epoch 5/5\n",
      " - 62s - loss: 228513099.6435 - acc: 2.8855e-05\n",
      "Epoch 1/5\n",
      " - 64s - loss: 344460780.0305 - acc: 2.1160e-05\n",
      "Epoch 2/5\n",
      " - 64s - loss: 261000287.1921 - acc: 1.5389e-05\n",
      "Epoch 3/5\n",
      " - 65s - loss: 259317190.0041 - acc: 1.5389e-05\n",
      "Epoch 4/5\n",
      " - 66s - loss: 257228165.1753 - acc: 1.9237e-05\n",
      "Epoch 5/5\n",
      " - 66s - loss: 204988745.9940 - acc: 3.2702e-05\n",
      "Epoch 1/5\n",
      " - 62s - loss: 342155795.3857 - acc: 2.1160e-05\n",
      "Epoch 2/5\n",
      " - 62s - loss: 260097142.7388 - acc: 2.5008e-05\n",
      "Epoch 3/5\n",
      " - 61s - loss: 258002823.8099 - acc: 2.5008e-05\n",
      "Epoch 4/5\n",
      " - 61s - loss: 256286331.2428 - acc: 1.9237e-05\n",
      "Epoch 5/5\n",
      " - 59s - loss: 160510425.7980 - acc: 3.2702e-05\n",
      "Epoch 1/10\n",
      " - 55s - loss: 293533855.7383 - acc: 1.3466e-05\n",
      "Epoch 2/10\n",
      " - 55s - loss: 129108580.2898 - acc: 2.6931e-05\n",
      "Epoch 3/10\n",
      " - 54s - loss: 110914338.6419 - acc: 5.0015e-05\n",
      "Epoch 4/10\n",
      " - 55s - loss: 80135113.6900 - acc: 3.2702e-05\n",
      "Epoch 5/10\n",
      " - 55s - loss: 60113919.4675 - acc: 4.2321e-05\n",
      "Epoch 6/10\n",
      " - 55s - loss: 46630616.2560 - acc: 7.3099e-05\n",
      "Epoch 7/10\n",
      " - 55s - loss: 41214115.7549 - acc: 6.1557e-05\n",
      "Epoch 8/10\n",
      " - 54s - loss: 39827506.2081 - acc: 6.5405e-05\n",
      "Epoch 9/10\n",
      " - 54s - loss: 38727967.2948 - acc: 6.3481e-05\n",
      "Epoch 10/10\n",
      " - 54s - loss: 38282535.1379 - acc: 7.1176e-05\n",
      "Epoch 1/10\n",
      " - 56s - loss: 346559203.8496 - acc: 2.3084e-05\n",
      "Epoch 2/10\n",
      " - 54s - loss: 256937690.1742 - acc: 1.1542e-05\n",
      "Epoch 3/10\n",
      " - 55s - loss: 182081415.2938 - acc: 3.2702e-05\n",
      "Epoch 4/10\n",
      " - 54s - loss: 91891687.4114 - acc: 3.6550e-05\n",
      "Epoch 5/10\n",
      " - 53s - loss: 79216224.6593 - acc: 4.2321e-05\n",
      "Epoch 6/10\n",
      " - 54s - loss: 73278503.5703 - acc: 4.0397e-05\n",
      "Epoch 7/10\n",
      " - 54s - loss: 62630349.2538 - acc: 5.9634e-05\n",
      "Epoch 8/10\n",
      " - 54s - loss: 52330484.9791 - acc: 6.9252e-05\n",
      "Epoch 9/10\n",
      " - 55s - loss: 47008092.9726 - acc: 4.6168e-05\n",
      "Epoch 10/10\n",
      " - 55s - loss: 44523454.2196 - acc: 5.3863e-05\n",
      "Epoch 1/10\n",
      " - 55s - loss: 298326765.0878 - acc: 2.5008e-05\n",
      "Epoch 2/10\n",
      " - 54s - loss: 168648211.8725 - acc: 4.4244e-05\n",
      "Epoch 3/10\n",
      " - 54s - loss: 163494531.6419 - acc: 4.0397e-05\n",
      "Epoch 4/10\n",
      " - 56s - loss: 140133908.0618 - acc: 3.6550e-05\n",
      "Epoch 5/10\n",
      " - 55s - loss: 75720258.2571 - acc: 4.2321e-05\n",
      "Epoch 6/10\n",
      " - 55s - loss: 55999789.5643 - acc: 5.1939e-05\n",
      "Epoch 7/10\n",
      " - 57s - loss: 45543254.5814 - acc: 5.5786e-05\n",
      "Epoch 8/10\n",
      " - 54s - loss: 40825786.2686 - acc: 1.0580e-04\n",
      "Epoch 9/10\n",
      " - 55s - loss: 37689759.0706 - acc: 7.6947e-05\n",
      "Epoch 10/10\n",
      " - 55s - loss: 36133603.5080 - acc: 7.6947e-05\n",
      "Epoch 1/10\n",
      " - 56s - loss: 307775218.6022 - acc: 2.1160e-05\n",
      "Epoch 2/10\n",
      " - 56s - loss: 104227775.3543 - acc: 3.4626e-05\n",
      "Epoch 3/10\n",
      " - 56s - loss: 89483089.6457 - acc: 4.0397e-05\n",
      "Epoch 4/10\n",
      " - 55s - loss: 80769635.6161 - acc: 3.8473e-05\n",
      "Epoch 5/10\n",
      " - 55s - loss: 73733586.7218 - acc: 4.8092e-05\n",
      "Epoch 6/10\n",
      " - 54s - loss: 61281872.5994 - acc: 3.8473e-05\n",
      "Epoch 7/10\n",
      " - 55s - loss: 48491581.4733 - acc: 5.1939e-05\n",
      "Epoch 8/10\n",
      " - 54s - loss: 42988117.8870 - acc: 7.1176e-05\n",
      "Epoch 9/10\n",
      " - 54s - loss: 40378987.4986 - acc: 6.9252e-05\n",
      "Epoch 10/10\n",
      " - 55s - loss: 39247651.3602 - acc: 6.9252e-05\n",
      "Epoch 1/10\n",
      " - 55s - loss: 269436849.3294 - acc: 2.8855e-05\n",
      "Epoch 2/10\n",
      " - 54s - loss: 120565192.2780 - acc: 3.6550e-05\n",
      "Epoch 3/10\n",
      " - 53s - loss: 94830892.8769 - acc: 6.7328e-05\n",
      "Epoch 4/10\n",
      " - 52s - loss: 74947120.2932 - acc: 5.0015e-05\n",
      "Epoch 5/10\n",
      " - 53s - loss: 43288875.3142 - acc: 9.2336e-05\n",
      "Epoch 6/10\n",
      " - 54s - loss: 37935397.5763 - acc: 7.5023e-05\n",
      "Epoch 7/10\n",
      " - 54s - loss: 36549360.1816 - acc: 6.9252e-05\n",
      "Epoch 8/10\n",
      " - 54s - loss: 35820937.4899 - acc: 5.9634e-05\n",
      "Epoch 9/10\n",
      " - 53s - loss: 35294901.8851 - acc: 8.0794e-05\n",
      "Epoch 10/10\n",
      " - 53s - loss: 34889498.9487 - acc: 6.1557e-05\n",
      "Epoch 1/10\n",
      " - 64s - loss: 272746200.0229 - acc: 3.0779e-05\n",
      "Epoch 2/10\n",
      " - 61s - loss: 137059319.5093 - acc: 3.8473e-05\n",
      "Epoch 3/10\n",
      " - 64s - loss: 114921594.5214 - acc: 4.4244e-05\n",
      "Epoch 4/10\n",
      " - 62s - loss: 95220721.1948 - acc: 4.6168e-05\n",
      "Epoch 5/10\n",
      " - 61s - loss: 70705533.2352 - acc: 5.7710e-05\n",
      "Epoch 6/10\n"
     ]
    }
   ],
   "source": [
    "# Create grid search\n",
    "grid = GridSearchCV(estimator = neural_network, param_grid = hyperparameters, cv = 5)\n",
    "\n",
    "# Fit grid search\n",
    "grid_result = grid.fit(X_train, y_train, verbose = 2, callbacks= callbacks_list)"
   ]
  },
  {
   "cell_type": "code",
   "execution_count": null,
   "metadata": {},
   "outputs": [],
   "source": [
    "grid_result.best_params_"
   ]
  },
  {
   "cell_type": "code",
   "execution_count": null,
   "metadata": {},
   "outputs": [],
   "source": [
    "model.fit(X_train, y_train, epochs=5, batch_size=10, validation_split=0.1, verbose = 2, callbacks= callbacks_list)"
   ]
  },
  {
   "cell_type": "code",
   "execution_count": null,
   "metadata": {},
   "outputs": [],
   "source": [
    "predictions = model.predict(X_test)"
   ]
  },
  {
   "cell_type": "code",
   "execution_count": null,
   "metadata": {},
   "outputs": [],
   "source": [
    "plt.figure(figsize = (15,10))\n",
    "plt.scatter(y_test, predictions)\n",
    "plt.xlabel(\"Actual Price\")\n",
    "plt.ylabel(\"Predicted Price\")\n",
    "plt.plot([0,1], [0,1], 'r')\n",
    "plt.grid(True)\n",
    "\n"
   ]
  },
  {
   "cell_type": "code",
   "execution_count": null,
   "metadata": {},
   "outputs": [],
   "source": []
  }
 ],
 "metadata": {
  "kernelspec": {
   "display_name": "Python 3",
   "language": "python",
   "name": "python3"
  },
  "language_info": {
   "codemirror_mode": {
    "name": "ipython",
    "version": 3
   },
   "file_extension": ".py",
   "mimetype": "text/x-python",
   "name": "python",
   "nbconvert_exporter": "python",
   "pygments_lexer": "ipython3",
   "version": "3.6.6"
  }
 },
 "nbformat": 4,
 "nbformat_minor": 2
}
