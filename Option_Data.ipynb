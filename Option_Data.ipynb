{
 "cells": [
  {
   "cell_type": "code",
   "execution_count": 1,
   "metadata": {},
   "outputs": [],
   "source": [
    "### Generate Option Price Data Set"
   ]
  },
  {
   "cell_type": "code",
   "execution_count": 2,
   "metadata": {},
   "outputs": [],
   "source": [
    "import pandas as pd\n",
    "import numpy as np\n",
    "import scipy.stats as ss\n",
    "import matplotlib.pyplot as plt\n",
    "%matplotlib inline"
   ]
  },
  {
   "cell_type": "code",
   "execution_count": 3,
   "metadata": {},
   "outputs": [],
   "source": [
    "## Black Scholes Call Option Pricing Formula\n",
    "\n",
    "def BS_Call(S,K,r,T,v,d=0):\n",
    "    d1 = (np.log(float(S)/K)+((r-d)+v*v/2.)*T)/(v*np.sqrt(T))\n",
    "    d2 = d1-v*np.sqrt(T)\n",
    "    return S*np.exp(-d*T)*ss.norm.cdf(d1)-K*np.exp(-r*T)*ss.norm.cdf(d2)\n"
   ]
  },
  {
   "cell_type": "code",
   "execution_count": 4,
   "metadata": {},
   "outputs": [
    {
     "data": {
      "text/plain": [
       "812250"
      ]
     },
     "execution_count": 4,
     "metadata": {},
     "output_type": "execute_result"
    }
   ],
   "source": [
    "## Build pandas dataframe of prices\n",
    "S = np.arange(10, 200, 2)\n",
    "K = np.random.random(len(S)) + 0.5\n",
    "r = 0.05\n",
    "T = np.arange(0.1, 1, 0.10)\n",
    "V = np.arange(0.1, 0.6, 0.05)\n",
    "\n",
    "# Number of option prices = life begins at a million examples\n",
    "no_of_options = len(S)*len(K)*len(T)*len(V)\n",
    "no_of_options"
   ]
  },
  {
   "cell_type": "code",
   "execution_count": 5,
   "metadata": {},
   "outputs": [],
   "source": [
    "#Not storing constant r (interest rate)\n",
    "prices = np.empty([no_of_options,5], dtype=float)"
   ]
  },
  {
   "cell_type": "code",
   "execution_count": 7,
   "metadata": {},
   "outputs": [
    {
     "name": "stdout",
     "output_type": "stream",
     "text": [
      "Wall time: 1min 54s\n"
     ]
    }
   ],
   "source": [
    "%%time\n",
    "x = 0\n",
    "for s in S:\n",
    "    for k in K:\n",
    "        for t in T:\n",
    "            for v in V:\n",
    "                prices[x,:] = [s,s*k,t,v,BS_Call(s,s*k,r,t,v)]\n",
    "                x+=1"
   ]
  },
  {
   "cell_type": "code",
   "execution_count": 6,
   "metadata": {},
   "outputs": [],
   "source": [
    "option_df = pd.DataFrame(index = range(no_of_options), columns = \n",
    "                         ['Stock', \n",
    "                          'Strike',\n",
    "                          'Time',\n",
    "                          'Volatility',\n",
    "                          'Call Price'], data = prices )"
   ]
  },
  {
   "cell_type": "code",
   "execution_count": 8,
   "metadata": {},
   "outputs": [],
   "source": [
    "#Write data to file \n",
    "option_df.to_csv(\"option_data.csv\")\n",
    "option_df.to_pickle(\"option_data.pkl\")"
   ]
  },
  {
   "cell_type": "code",
   "execution_count": null,
   "metadata": {},
   "outputs": [],
   "source": []
  }
 ],
 "metadata": {
  "kernelspec": {
   "display_name": "Python 3",
   "language": "python",
   "name": "python3"
  },
  "language_info": {
   "codemirror_mode": {
    "name": "ipython",
    "version": 3
   },
   "file_extension": ".py",
   "mimetype": "text/x-python",
   "name": "python",
   "nbconvert_exporter": "python",
   "pygments_lexer": "ipython3",
   "version": "3.6.6"
  }
 },
 "nbformat": 4,
 "nbformat_minor": 2
}
